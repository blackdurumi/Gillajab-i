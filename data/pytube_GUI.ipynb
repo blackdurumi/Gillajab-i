{
 "cells": [
  {
   "cell_type": "code",
   "execution_count": 4,
   "metadata": {},
   "outputs": [],
   "source": [
    "# ! pip install -U tkinter\n",
    "# ! pip install pytube"
   ]
  },
  {
   "cell_type": "markdown",
   "metadata": {},
   "source": [
    "#### 원하는 directory로 바꿔보기"
   ]
  },
  {
   "cell_type": "code",
   "execution_count": 1,
   "metadata": {},
   "outputs": [
    {
     "data": {
      "text/plain": [
       "'C:\\\\Users\\\\park1\\\\Youtube_Crawling\\\\Audio'"
      ]
     },
     "execution_count": 1,
     "metadata": {},
     "output_type": "execute_result"
    }
   ],
   "source": [
    "import os \n",
    "\n",
    "path = 'C:/Users/park1/Youtube_Crawling/Audio'\n",
    "os.chdir(path)\n",
    "os.getcwd()\n"
   ]
  },
  {
   "cell_type": "markdown",
   "metadata": {},
   "source": [
    "#### GUI(유튜브 음원추출) - tkinter 사용\n",
    "- 원하는 영상의 url 치고 mp3 converter누를경우 directory에 음원 추출"
   ]
  },
  {
   "cell_type": "code",
   "execution_count": 2,
   "metadata": {},
   "outputs": [],
   "source": [
    "# call lib\n",
    "from tkinter import *\n",
    "from tkinter import messagebox\n",
    "from pytube import YouTube\n",
    "import glob\n",
    "import os.path\n",
    "\n",
    "# set\n",
    "root = Tk()\n",
    "root.title(\"converter\")\n",
    "root.geometry(\"500x300\")\n",
    "root.resizable(False, False)\n",
    "\n",
    "#convert\n",
    "def convert():\n",
    "    #유튜브 전용 인스턴스 생성\n",
    "    par = lnk.get()\n",
    "    print(par)\n",
    "\n",
    "    yt = YouTube(par)\n",
    "\n",
    "    print(\"start!\")\n",
    "    if(Radiovar.get() == 1):\n",
    "        print(\"type: mp4\")\n",
    "        yt.streams.filter().all()\n",
    "        yt.streams.filter().first().download() \n",
    "    else:\n",
    "        print(\"type: mp3\")\n",
    "        yt.streams.filter(only_audio=True).all()\n",
    "        yt.streams.filter(only_audio=True).first().download() \n",
    "        print(\"success\")\n",
    "\n",
    "    files = glob.glob(\"*.mp4\")\n",
    "    for x in files:\n",
    "        if not os.path.isdir(x):\n",
    "            filename = os.path.splitext(x)\n",
    "            try:\n",
    "                os.rename(x,filename[0] + '.mp3')\n",
    "            except:\n",
    "                pass\n",
    "    messagebox.showinfo(\"success\",\"converted!\") #메시지 박스를 띄운다.\n",
    "\n",
    "\n",
    "#main\n",
    "lbl = Label(root, text=\"YouTube Converter!\")\n",
    "lbl.pack()\n",
    "\n",
    "lnk = Entry(root)\n",
    "lnk.pack(fill=\"x\")\n",
    "\n",
    "st = StringVar() \n",
    "Radiovar = IntVar() \n",
    "Radio_button1 = Radiobutton(text=\"mp4\",variable=Radiovar,value=1) \n",
    "Radio_button2 = Radiobutton(text=\"mp3(=default)\",variable=Radiovar,value=2)\n",
    "Radio_button1.pack()\n",
    "Radio_button2.pack()\n",
    "\n",
    "place = Label(root, text=\"\\n\")\n",
    "place.pack()\n",
    "\n",
    "btn = Button(root, text=\"convert\",command=convert)\n",
    "btn.pack()\n",
    "root.mainloop()"
   ]
  }
 ],
 "metadata": {
  "kernelspec": {
   "display_name": "Python 3",
   "language": "python",
   "name": "python3"
  },
  "language_info": {
   "codemirror_mode": {
    "name": "ipython",
    "version": 3
   },
   "file_extension": ".py",
   "mimetype": "text/x-python",
   "name": "python",
   "nbconvert_exporter": "python",
   "pygments_lexer": "ipython3",
   "version": "3.8.3"
  }
 },
 "nbformat": 4,
 "nbformat_minor": 4
}
