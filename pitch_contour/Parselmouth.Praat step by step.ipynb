{
 "cells": [
  {
   "cell_type": "markdown",
   "id": "9e0071af",
   "metadata": {},
   "source": [
    "# 시작하며"
   ]
  },
  {
   "cell_type": "markdown",
   "id": "2d2ffd35",
   "metadata": {},
   "source": [
    "myprosody 는 parselmouth library를 참고해서 만든 라이브러리다.\n",
    "\n",
    "parselmouth 는 praat 을 참고해서 만든 라이브러리다.\n",
    "\n",
    "https://github.com/Shahabks/myprosody    \n",
    "\n",
    "Myprosody 리포짓이다. 리드미 파일 꼼꼼하게 읽고 따라하길 권장한다!"
   ]
  },
  {
   "cell_type": "markdown",
   "id": "5109b352",
   "metadata": {},
   "source": [
    "가급적이면 새로운 가상환경 만들고 진행하는거 추천. 대기업이 만든 라이브러리가 아닌 이상 다른 패키지와 호환문제가\n",
    "\n",
    "발생 할 수 있다. 파이썬 3.7을 쓰는걸 권장한다! 파이썬 3.7로 가상환경 만들고 pip install myprosody 하면 된다."
   ]
  },
  {
   "cell_type": "code",
   "execution_count": null,
   "id": "1fd6f6de",
   "metadata": {},
   "outputs": [],
   "source": [
    "#pip install myprosody"
   ]
  },
  {
   "cell_type": "code",
   "execution_count": 10,
   "id": "54b2ec13",
   "metadata": {},
   "outputs": [],
   "source": [
    "import numpy as np\n",
    "import parselmouth\n",
    "import pandas as pd\n",
    "import scipy\n",
    "import librosa    \n",
    "import soundfile as sf\n",
    "import pickle"
   ]
  },
  {
   "cell_type": "markdown",
   "id": "8ed6b29b",
   "metadata": {},
   "source": [
    "추가적으로 필요한 라이브러리다. 먼저 pip install myprosody 하고, 새로운 가상환경이면 아무겄도 안깔려있을테니 위\n",
    "\n",
    "import 코드 돌려보고 없는걸 따로 pip install 하면 된다."
   ]
  },
  {
   "cell_type": "code",
   "execution_count": 2,
   "id": "1e462b30",
   "metadata": {},
   "outputs": [],
   "source": [
    "import myprosody as mysp"
   ]
  },
  {
   "cell_type": "code",
   "execution_count": 3,
   "id": "2c73eee6",
   "metadata": {},
   "outputs": [
    {
     "data": {
      "text/plain": [
       "['/Users/jonghyunlee/.conda/envs/Voice/lib/python3.7/site-packages/myprosody']"
      ]
     },
     "execution_count": 3,
     "metadata": {},
     "output_type": "execute_result"
    }
   ],
   "source": [
    "mysp.__path__"
   ]
  },
  {
   "cell_type": "code",
   "execution_count": null,
   "id": "2e5456b4",
   "metadata": {},
   "outputs": [],
   "source": [
    "위 코드를 돌려보고 경로에 잘 들어있는지 확인."
   ]
  },
  {
   "cell_type": "markdown",
   "id": "d20be3b9",
   "metadata": {},
   "source": [
    "# Myprosody"
   ]
  },
  {
   "cell_type": "markdown",
   "id": "f6a3e905",
   "metadata": {},
   "source": [
    "마이프로소디로 음성데이터의 다양한 피쳐를 뽑을 수 있다.\n",
    "\n",
    "https://github.com/Shahabks/myprosody/blob/master/EXAMPLES.pdf 예시 링크\n",
    "    \n",
    "화자의 성별, 감정, 발음점수, 음절 수, 말하는 속도, 말하는 구간 등등 다양하게 사용 할 수 있다!\n",
    "\n",
    "하지만 쓰기 되게 까다롭다. myprosody에서 지정하는 경로가 다른 파이썬 라이브러리랑 조금 다르다. 잘보고 따라해주세요~"
   ]
  },
  {
   "cell_type": "markdown",
   "id": "5df23fe9",
   "metadata": {},
   "source": [
    "제일 먼저 해야하는건 마이프로소디 깃헙 리포짓에 들어가서 전체 리포짓을 다운로드해야한다.\n",
    "\n",
    "Pip install 했는데 왜 따로 다운받냐고?\n",
    "\n",
    "pip install 은 myprosody 의 __init__파일만 다운로드한다.. 왜인지는 묻지마 나도 몰라ㅠ\n",
    "\n",
    "무튼 깃헙 리포짓 들어가면 코드라고 초록 버튼 있는데, 누르면 download ZIP 있다. 눌러서 다운로드 받아라.\n",
    "\n",
    "그러면 myprosody-master 이란 파일이 다운받아지는데, 압축을 풀고 안에 봐라. 안에 myprosody라는 파일이 있을거다.\n",
    "\n",
    "그걸 열어보면 dataset 이란 파일이 있을거다.\n",
    "\n",
    "이 dataset 파일을 너네가 이 파이썬 환경을 돌리는 path에다가 넣어줘라!\n",
    "\n",
    "나같은 경우엔 이 주피터ipynb 파일과 dataset 라는 파일이 같은 폴더 안에 있게 옮겼다."
   ]
  },
  {
   "cell_type": "markdown",
   "id": "082245f4",
   "metadata": {},
   "source": [
    "여기까지 하면 라이브러리를 호출해서 사용 할 수 있을거다. 간단한 실습을 해보자."
   ]
  },
  {
   "cell_type": "markdown",
   "id": "4df6138f",
   "metadata": {},
   "source": [
    "### 간단한 실습"
   ]
  },
  {
   "cell_type": "code",
   "execution_count": 4,
   "id": "8d7ba8b8",
   "metadata": {},
   "outputs": [],
   "source": [
    "data, samplerate = librosa.load('/Users/jonghyunlee/Jupyter/PRAAT/tester.wav', sr=48000)"
   ]
  },
  {
   "cell_type": "markdown",
   "id": "a25e53be",
   "metadata": {},
   "source": [
    "위 코드는 librosa 라이브러리의 함수 load 로 지정 경로에 있는 오디오파일을 불러와준다. arg는 오디오파일의 절대경로고,\n",
    "\n",
    "kwarg는 샘플레이트다. 48000으로 하는거 추천. 왜인지는 조금이따 이유 나옴~"
   ]
  },
  {
   "cell_type": "code",
   "execution_count": 5,
   "id": "1cdb3ae2",
   "metadata": {},
   "outputs": [
    {
     "name": "stdout",
     "output_type": "stream",
     "text": [
      "[0.00086947 0.00079307 0.0005044  ... 0.         0.         0.        ]\n",
      "<class 'numpy.ndarray'>\n"
     ]
    }
   ],
   "source": [
    "print(data)\n",
    "print(type(data))"
   ]
  },
  {
   "cell_type": "markdown",
   "id": "0bdbf722",
   "metadata": {},
   "source": [
    "librosa로 음성을 읽으면 해당 음성의 데이터를 넘파이 배열로 저장한다."
   ]
  },
  {
   "cell_type": "code",
   "execution_count": 6,
   "id": "892f11e6",
   "metadata": {},
   "outputs": [],
   "source": [
    "sf.write('/Users/jonghyunlee/Jupyter/PRAAT/dataset/audioFiles/tester_new.wav', \\\n",
    "         data, samplerate, \"PCM_24\")"
   ]
  },
  {
   "cell_type": "markdown",
   "id": "5c0be725",
   "metadata": {},
   "source": [
    "librosa로 읽어온 오디오 데이터를 soundfile 라이브러리의 write 함수를 통해 새로 저장한다. 굳이 이렇게 하는 이유는\n",
    "    \n",
    "1. myprosody는 48kHz 의 samplerate와 24~32의 bit depth 를 가진 오디오데이터만 지원한다.\n",
    "    \n",
    "sf.write는 대부분 쓰는 오디오파일의 samplerate와 bit depth 가 맞지 않는걸 우회하기 위해서다.\n",
    "    \n",
    "2. myprosody는 읽어오는 오디오 파일의 경로가 파이썬 스크립트 위치가 아닌 초반에 옮겨둔 myprosody ->\n",
    "    \n",
    "dataset-> audioFiles 안에 저장되어야만 작동한다. __init__ 파일을 뜯어보면 그렇게 돼있는데, 왠지는 나도 모른다.\n",
    "    \n",
    "개발자가 복잡한걸 좋아하나보다. 무튼 sf.write로 sample rate 와 bit depth 를 맞춘 새로운 파일을\n",
    "    \n",
    "올바른 경로에 자동으로 저장해주기 위한 일종의 꼼수정도로 생각하면 될듯"
   ]
  },
  {
   "cell_type": "code",
   "execution_count": 7,
   "id": "e46aa163",
   "metadata": {},
   "outputs": [],
   "source": [
    "name = \"tester_new\" #audioFiles 안에 있는 오디오파일 이름\n",
    "path = r\"/Users/jonghyunlee/Jupyter/PRAAT\" #myprosody파일경로"
   ]
  },
  {
   "cell_type": "markdown",
   "id": "0726f2f5",
   "metadata": {},
   "source": [
    "myprosody 로 돌리고 싶은 오디오 파일의 이름을 name 에 저장해주고, 경로를 path 에 저장해줬다.\n",
    "\n",
    "위 과정만 잘 따라했으면 파이썬 스크립트가 있는 폴더 안에 myprosody라는 폴더도 있을거고, 새로 인코딩된\n",
    "\n",
    "오디오파일이 myprosody -> dataset -> audioFiles 안에 잘 저장되어있을거다.\n",
    "\n",
    "name 을 정의할때 주의할점은 .wav 붙히면 안된다.\n",
    "\n",
    "path 를 정의할 때 주의할 점은 쌍따음표 앞에 r 꼭 넣어주고, myprodosy 라는 파일이 있는 폴더의 경로를 넣어줘야 한다.\n",
    "\n",
    "내 경우엔 Jupyter/PRAAT 안에 my prosody가 있기 때문에 PRAAT 까지만 썼다."
   ]
  },
  {
   "cell_type": "code",
   "execution_count": 79,
   "id": "59e8b173",
   "metadata": {},
   "outputs": [
    {
     "name": "stdout",
     "output_type": "stream",
     "text": [
      "[]\n",
      "a Male, mood of speech: speaking passionately, p-value/sample size= :0.00 5\n",
      "[]\n",
      "Pronunciation_posteriori_probability_score_percentage= :85.03\n",
      "[]\n",
      "                           0\n",
      "number_ of_syllables      57\n",
      "number_of_pauses           2\n",
      "rate_of_speech             3\n",
      "articulation_rate          4\n",
      "speaking_duration       13.4\n",
      "original_duration       19.3\n",
      "balance                  0.7\n",
      "f0_mean               138.19\n",
      "f0_std                 24.95\n",
      "f0_median              132.1\n",
      "f0_min                   101\n",
      "f0_max                   382\n",
      "f0_quantile25            125\n",
      "f0_quan75                144\n"
     ]
    }
   ],
   "source": [
    "mysp.myspgend(name,path)\n",
    "mysp.mysppron(name,path)\n",
    "mysp.mysptotal(name,path)"
   ]
  },
  {
   "cell_type": "code",
   "execution_count": null,
   "id": "cdb892b8",
   "metadata": {},
   "outputs": [],
   "source": [
    "여기까지 잘 따라왔으면 위의 function들이 잘 출력될거다."
   ]
  },
  {
   "cell_type": "markdown",
   "id": "6d0d0f2d",
   "metadata": {},
   "source": [
    "하지만 우리가 진짜 관심있는 부분은 뭐다? 데이터를 학습한 모델로 예측을 할 수 있는지다.\n",
    "\n",
    "myprosody에선 실제로 학습모델 .sav 파일들이 있는데, dataset essen 에 들어가보면 모델들이 많다.\n",
    "\n",
    "이 학습모델을 사용해서 예측을 하는 myprosody 함수는 두개: mysp.myprosody, mysp.mysplev 이다.\n",
    "    \n",
    "이 두개의 함수를 실행해보자."
   ]
  },
  {
   "cell_type": "code",
   "execution_count": null,
   "id": "40f5328c",
   "metadata": {},
   "outputs": [],
   "source": [
    "mysp.myprosody(name,path)"
   ]
  },
  {
   "cell_type": "markdown",
   "id": "1c6472d6",
   "metadata": {},
   "source": [
    "출력이 안될거다. 찾아보니깐 이 라이브러리가 좀 버그가 많아서 수동수정을 해줘야한다 (이거 해결하는데 죽는줄ㅠ)\n",
    "\n",
    "먼저 https://github.com/Shahabks/myprosody/issues/22 이 링크에 들어가서 ananas-hebo 라는 사람이 남긴\n",
    "    \n",
    "댓글에 있는 MLTRNL.praat.zip 을 다운받아서 압축을 풀어줘라.\n",
    "\n",
    "그다음 풀린 압축파일을 dataset - essen 안에 있는 기존 MLTRNL.praat 파일과 바꿔치기해라!"
   ]
  },
  {
   "cell_type": "code",
   "execution_count": null,
   "id": "729d5a56",
   "metadata": {},
   "outputs": [],
   "source": [
    "mysp.__path__"
   ]
  },
  {
   "cell_type": "markdown",
   "id": "64751980",
   "metadata": {},
   "source": [
    "그다음 실제 라이브러리가 다운로드 된 경로로 가서 __init__.py 파일을 열어라. 10번째 줄 import os 밑에\n",
    "\n",
    "import pickle 이라고 한 줄 써주고 저장한다음 닫아라. 그리고 주피터 셧다운하고 다시 켜서 돌려라."
   ]
  },
  {
   "cell_type": "code",
   "execution_count": 80,
   "id": "ea2cb98a",
   "metadata": {},
   "outputs": [
    {
     "name": "stdout",
     "output_type": "stream",
     "text": [
      "Compared to native speech, here are the prosodic features of your speech:\n",
      "average_syll_pause_duration:\t (:Out of Range)\n",
      "No._long_pause:\t 66.666667 (% percentile )\n",
      "speaking_time:\t 25.000000 (% percentile )\n",
      "ave_No._of_words_in_minutes:\t 33.333333 (% percentile )\n",
      "articulation_rate:\t 66.666667 (% percentile )\n",
      "No._words_in_minutes:\t 33.333333 (% percentile )\n",
      "formants_index:\t 66.666667 (% percentile )\n",
      "f0_index:\t (:Out of Range)\n",
      "f0_quantile_25_index:\t (:Out of Range)\n",
      "f0_quantile_50_index:\t 25.000000 (% percentile )\n",
      "f0_quantile_75_index:\t 66.666667 (% percentile )\n",
      "f0_std:\t 25.000000 (% percentile )\n",
      "f0_max:\t 33.333333 (% percentile )\n",
      "f0_min:\t (:Out of Range)\n",
      "No._detected_vowel:\t 25.000000 (% percentile )\n",
      "perc%._correct_vowel:\t 33.333333 (% percentile )\n",
      "(f2/f1)_mean:\t 25.000000 (% percentile )\n",
      "(f2/f1)_std:\t (:Out of Range)\n",
      "no._of_words:\t 25.000000 (% percentile )\n",
      "no._of_pauses:\t 25.000000 (% percentile )\n",
      "intonation_index:\t 25.000000 (% percentile )\n",
      "(voiced_syll_count)/(no_of_pause):\t (:Out of Range)\n",
      "TOEFL_Scale_Score:\t 33.333333 (% percentile )\n",
      "Score_Shannon_index:\t 33.333333 (% percentile )\n",
      "speaking_rate:\t 25.000000 (% percentile )\n"
     ]
    }
   ],
   "source": [
    "mysp.myprosody(name,path)"
   ]
  },
  {
   "cell_type": "code",
   "execution_count": null,
   "id": "c650b68c",
   "metadata": {},
   "outputs": [],
   "source": [
    "오예! 잘돌아간다. 이제 마지막 함수 하나가 남았다."
   ]
  },
  {
   "cell_type": "code",
   "execution_count": 81,
   "id": "a1f3caf3",
   "metadata": {},
   "outputs": [
    {
     "name": "stdout",
     "output_type": "stream",
     "text": [
      "[]\n",
      "58% accuracy     ['c']\n"
     ]
    },
    {
     "ename": "ModuleNotFoundError",
     "evalue": "No module named 'sklearn.neighbors.classification'",
     "output_type": "error",
     "traceback": [
      "\u001b[0;31m---------------------------------------------------------------------------\u001b[0m",
      "\u001b[0;31mModuleNotFoundError\u001b[0m                       Traceback (most recent call last)",
      "\u001b[0;32m<ipython-input-81-765140245a59>\u001b[0m in \u001b[0;36m<module>\u001b[0;34m\u001b[0m\n\u001b[0;32m----> 1\u001b[0;31m \u001b[0mmysp\u001b[0m\u001b[0;34m.\u001b[0m\u001b[0mmysplev\u001b[0m\u001b[0;34m(\u001b[0m\u001b[0mname\u001b[0m\u001b[0;34m,\u001b[0m\u001b[0mpath\u001b[0m\u001b[0;34m)\u001b[0m\u001b[0;34m\u001b[0m\u001b[0;34m\u001b[0m\u001b[0m\n\u001b[0m",
      "\u001b[0;32m~/.conda/envs/Voice/lib/python3.7/site-packages/myprosody/__init__.py\u001b[0m in \u001b[0;36mmysplev\u001b[0;34m(m, p)\u001b[0m\n\u001b[1;32m    487\u001b[0m \u001b[0;34m\u001b[0m\u001b[0m\n\u001b[1;32m    488\u001b[0m         \u001b[0mfilename\u001b[0m\u001b[0;34m=\u001b[0m\u001b[0mp\u001b[0m\u001b[0;34m+\u001b[0m\u001b[0;34m\"/\"\u001b[0m\u001b[0;34m+\u001b[0m\u001b[0;34m\"dataset\"\u001b[0m\u001b[0;34m+\u001b[0m\u001b[0;34m\"/\"\u001b[0m\u001b[0;34m+\u001b[0m\u001b[0;34m\"essen\"\u001b[0m\u001b[0;34m+\u001b[0m\u001b[0;34m\"/\"\u001b[0m\u001b[0;34m+\u001b[0m\u001b[0;34m\"KNN_model.sav\"\u001b[0m\u001b[0;34m\u001b[0m\u001b[0;34m\u001b[0m\u001b[0m\n\u001b[0;32m--> 489\u001b[0;31m         \u001b[0mmodel\u001b[0m \u001b[0;34m=\u001b[0m \u001b[0mpickle\u001b[0m\u001b[0;34m.\u001b[0m\u001b[0mload\u001b[0m\u001b[0;34m(\u001b[0m\u001b[0mopen\u001b[0m\u001b[0;34m(\u001b[0m\u001b[0mfilename\u001b[0m\u001b[0;34m,\u001b[0m \u001b[0;34m'rb'\u001b[0m\u001b[0;34m)\u001b[0m\u001b[0;34m)\u001b[0m\u001b[0;34m\u001b[0m\u001b[0;34m\u001b[0m\u001b[0m\n\u001b[0m\u001b[1;32m    490\u001b[0m         \u001b[0mpredictions\u001b[0m \u001b[0;34m=\u001b[0m \u001b[0mmodel\u001b[0m\u001b[0;34m.\u001b[0m\u001b[0mpredict\u001b[0m\u001b[0;34m(\u001b[0m\u001b[0mx\u001b[0m\u001b[0;34m)\u001b[0m\u001b[0;34m\u001b[0m\u001b[0;34m\u001b[0m\u001b[0m\n\u001b[1;32m    491\u001b[0m         \u001b[0mprint\u001b[0m\u001b[0;34m(\u001b[0m\u001b[0;34m\"65% accuracy    \"\u001b[0m\u001b[0;34m,\u001b[0m\u001b[0mpredictions\u001b[0m\u001b[0;34m)\u001b[0m\u001b[0;34m\u001b[0m\u001b[0;34m\u001b[0m\u001b[0m\n",
      "\u001b[0;31mModuleNotFoundError\u001b[0m: No module named 'sklearn.neighbors.classification'"
     ]
    }
   ],
   "source": [
    "mysp.mysplev(name,path)"
   ]
  },
  {
   "cell_type": "markdown",
   "id": "76f3b577",
   "metadata": {},
   "source": [
    "이게 안돌아간다. 이거 해결할라고 몇시간을 발악해봤는데 전혀안됀다.. 사이킷런 존재하는 버젼 하나씩 다 깔아보고 했는데도..\n",
    "\n",
    "그래서 Pypi doc 가봤는데 개발자가 '만약 님 컴퓨터에서 안돌아가면 연락주세요~ 따로 MLtraining.py 파일 보내드림'\n",
    "\n",
    "이라고 써놨더라? ㅋㅋ깃허브엔 안써놓고 숨겨둬서 뻘짓 엄청했네.. 그래서 메일보내놨다. 그리고 이게 되던 안되던\n",
    "\n",
    "우리가 이해해야하는 부분은 따로있다."
   ]
  },
  {
   "cell_type": "markdown",
   "id": "8abc1bb8",
   "metadata": {},
   "source": [
    "### 심화"
   ]
  },
  {
   "cell_type": "markdown",
   "id": "c2bce197",
   "metadata": {},
   "source": [
    "본질적으로 이 라이브러리가 어떻게 구축되어 있는지를 보자. __init__ 파일에 있는 함수 중 mysppron을 보자. (line 271)"
   ]
  },
  {
   "cell_type": "code",
   "execution_count": 90,
   "id": "5d923f81",
   "metadata": {},
   "outputs": [
    {
     "name": "stdout",
     "output_type": "stream",
     "text": [
      "[]\n",
      "Pronunciation_posteriori_probability_score_percentage= :85.12\n"
     ]
    }
   ],
   "source": [
    "mysp.mysppron(name,path)"
   ]
  },
  {
   "cell_type": "code",
   "execution_count": null,
   "id": "7e509805",
   "metadata": {},
   "outputs": [],
   "source": [
    "이 함수는 일단 오디오파일의 발음점수를 출력해준다."
   ]
  },
  {
   "cell_type": "code",
   "execution_count": 86,
   "id": "f09b18fa",
   "metadata": {},
   "outputs": [],
   "source": [
    "def myspsyl(m,p):\n",
    "    sound=p+\"/\"+\"dataset\"+\"/\"+\"audioFiles\"+\"/\"+m+\".wav\"\n",
    "    sourcerun=p+\"/\"+\"dataset\"+\"/\"+\"essen\"+\"/\"+\"myspsolution.praat\"\n",
    "    path=p+\"/\"+\"dataset\"+\"/\"+\"audioFiles\"+\"/\"\n",
    "    try:\n",
    "        objects= run_file(sourcerun, -20, 2, 0.3, \"yes\",sound,path, 80, 400, 0.01, capture_output=True)\n",
    "        print (objects[0]) # This will print the info from the sound object, and objects[0] is a parselmouth.Sound object\n",
    "        z1=str( objects[1]) # This will print the info from the textgrid object, and objects[1] is a parselmouth.Data object with a TextGrid inside\n",
    "        z2=z1.strip().split()\n",
    "        z3=int(z2[0]) # will be the integer number 10\n",
    "        z4=float(z2[3]) # will be the floating point number 8.3\n",
    "        print (\"number_ of_syllables=\",z3)\n",
    "    except:\n",
    "        z3=0\n",
    "        print (\"Try again the sound of the audio was not clear\")\n",
    "    return; "
   ]
  },
  {
   "cell_type": "markdown",
   "id": "906ef493",
   "metadata": {},
   "source": [
    "이 함수의 각 라인이 정확히 뭘 의미하는지 확인해보자. 먼저 sourcerun 이란 변수에 myspsolution.praat 파일을 저장한다.\n",
    "그다음 run_file 이란 함수로 sourcerun과 각종 arg, kwarg를 받아서, object 라는 변수에 저장한다.\n",
    "이 object라는 변수가 사실상 이 라이브러리의 알파와 오메가!!다. 이걸 해석할 줄 알면 걍 프로젝트 끝!"
   ]
  },
  {
   "cell_type": "code",
   "execution_count": 100,
   "id": "dec773e0",
   "metadata": {},
   "outputs": [],
   "source": [
    "from parselmouth.praat import call, run_file\n",
    "from scipy.stats import binom\n",
    "\n",
    "def myspsyl_debug(m,p):\n",
    "    sound=p+\"/\"+\"dataset\"+\"/\"+\"audioFiles\"+\"/\"+m+\".wav\"\n",
    "    sourcerun=p+\"/\"+\"dataset\"+\"/\"+\"essen\"+\"/\"+\"myspsolution.praat\"\n",
    "    path=p+\"/\"+\"dataset\"+\"/\"+\"audioFiles\"+\"/\"\n",
    "    objects= run_file(sourcerun, -20, 2, 0.3, \"yes\",sound,path, 80, 400, 0.01, capture_output=True)\n",
    "    print(objects)\n",
    "    print(type(objects))\n",
    "    print('---------')\n",
    "    print(objects[0]) # This will print the info from the sound object, and objects[0] is a parselmouth.Sound object\n",
    "    z1=str(objects[1]) # This will print the info from the textgrid object, and objects[1] is a parselmouth.Data object with a TextGrid inside\n",
    "    print(\"z1: \", z1)\n",
    "    print('---------')\n",
    "    z2=z1.strip().split()\n",
    "    print(\"z2: \", z2)\n",
    "    print(\"len of z2: \", len(z2))\n",
    "    print('---------')    \n",
    "    z3=int(z2[13]) # will be the integer number 10\n",
    "    print(\"z3: \", z3)\n",
    "    print('---------')    \n",
    "    z4=float(z2[14]) # will be the floating point number 8.3\n",
    "    print(\"z4: \", z4)\n",
    "    print('---------')    \n",
    "    db= binom.rvs(n=10,p=z4,size=10000)\n",
    "    print(\"db: \", db)\n",
    "    print('type of db: ', type(db))\n",
    "    print('---------')    \n",
    "    a=np.array(db)\n",
    "    print(\"a: \", a)\n",
    "    print('---------')\n",
    "    b=np.mean(a)*100/10\n",
    "    print (\"Pronunciation_posteriori_probability_score_percentage= :%.2f\" % (b))"
   ]
  },
  {
   "cell_type": "code",
   "execution_count": null,
   "id": "615ec893",
   "metadata": {},
   "outputs": [],
   "source": [
    "함수의 각 라인이 뭐를 의미하는지 보기 편하게 하나하나 프린트해보자.\n",
    "objects는 기본적으로 튜플이고, 빈 리스트와 숫자들이 한 스트링에 저장되어있다.\n",
    "숫자들을 슬라이싱 해서 이 숫자들을 가지고 모든 걸 계산하는거다!\n",
    "\n",
    "위 함수의 예시에선 14번째 인자를 받아서 scipy 의 binom.rvs 함수로 이항분포를 만든다.\n",
    "그 이항분포를 넘파이 배열로 변환하고, 평균한다음 x10 을 곱한걸 발음점수로 정의하고있다!"
   ]
  },
  {
   "cell_type": "code",
   "execution_count": 101,
   "id": "ff0b22ad",
   "metadata": {},
   "outputs": [
    {
     "name": "stdout",
     "output_type": "stream",
     "text": [
      "([], '57\\n2\\n3\\n4\\n13.4\\n19.3\\n0.7\\n138.19\\n24.95\\n132.1\\n101\\n382\\n125\\n144\\n0.85\\n')\n",
      "<class 'tuple'>\n",
      "---------\n",
      "[]\n",
      "z1:  57\n",
      "2\n",
      "3\n",
      "4\n",
      "13.4\n",
      "19.3\n",
      "0.7\n",
      "138.19\n",
      "24.95\n",
      "132.1\n",
      "101\n",
      "382\n",
      "125\n",
      "144\n",
      "0.85\n",
      "\n",
      "---------\n",
      "z2:  ['57', '2', '3', '4', '13.4', '19.3', '0.7', '138.19', '24.95', '132.1', '101', '382', '125', '144', '0.85']\n",
      "len of z2:  15\n",
      "---------\n",
      "z3:  144\n",
      "---------\n",
      "z4:  0.85\n",
      "---------\n",
      "db:  [9 7 8 ... 8 8 8]\n",
      "type of db:  <class 'numpy.ndarray'>\n",
      "---------\n",
      "a:  [9 7 8 ... 8 8 8]\n",
      "---------\n",
      "Pronunciation_posteriori_probability_score_percentage= :85.05\n"
     ]
    }
   ],
   "source": [
    "myspsyl_debug(name,path)"
   ]
  },
  {
   "cell_type": "markdown",
   "id": "3a2b0804",
   "metadata": {},
   "source": [
    "이쯤되면 눈치챘을텐데, 제일 기본적으로 해야하는게 myspsolution.praat 을 읽을 줄 아는거다.\n",
    "\n",
    ".praat 파일은 오디오데이터를 위한 특수한 함수를 지정할 수 있는 파일인데, 우리가 입력한 음성에 대한 데이터를\n",
    "\n",
    "어떤 식으로 변환해서 저 objects 라는 걸 출력해주는지 알아야한다.\n",
    "\n",
    "일단 나도 연구해볼테니, 다들 힘내보자ㅠ 저 파일을 읽을 줄 알면 MLtraining.py 파일 받아서 직접 학습시켜서\n",
    "\n",
    "mysplev 함수도 사용할 수 있으니깐!!\n",
    "\n",
    "4조화이팅"
   ]
  }
 ],
 "metadata": {
  "kernelspec": {
   "display_name": "Python 3",
   "language": "python",
   "name": "python3"
  },
  "language_info": {
   "codemirror_mode": {
    "name": "ipython",
    "version": 3
   },
   "file_extension": ".py",
   "mimetype": "text/x-python",
   "name": "python",
   "nbconvert_exporter": "python",
   "pygments_lexer": "ipython3",
   "version": "3.7.10"
  }
 },
 "nbformat": 4,
 "nbformat_minor": 5
}
